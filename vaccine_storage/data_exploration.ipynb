{
 "cells": [
  {
   "cell_type": "markdown",
   "metadata": {},
   "source": [
    "## Prompt Engineering & Task Decomposition Practice\n",
    "Use an LLM to identify vaccine batches stored at inappropriate temperatures.\n",
    "\n",
    "**Data sources**:\n",
    "\n",
    "Storage temperature requirements: who_audit_summary_synthetic.md\n",
    "Temperature data: who_audit_synthetic_data.csv\n",
    "\n",
    "**Key points**: The dataset contains misleading information in some columns. You should identify the temperature range columns for batches that show the lowest and the highest temperature for that batch.\n",
    "\n",
    "**Target**: Find the 3 batches stored inappropriately:\n",
    "\n",
    "B10046 (2025-02-14 8:00:00)\n",
    "B10048 (2025-02-16 16:00:00)\n",
    "B10001 (2025-01-01 8:00:00)\n",
    "\n",
    "**Your task**: Develop a prompting strategy that gets the LLM to correctly identify these batches.\n"
   ]
  },
  {
   "cell_type": "code",
   "execution_count": 3,
   "metadata": {},
   "outputs": [],
   "source": [
    "from dotenv import load_dotenv\n",
    "import os\n",
    "import anthropic\n",
    "\n",
    "load_dotenv()\n",
    "ANTHROPIC_API_KEY = os.getenv(\"ANTHROPIC_API_KEY\")\n",
    "client = anthropic.Anthropic(api_key=ANTHROPIC_API_KEY)"
   ]
  },
  {
   "cell_type": "code",
   "execution_count": 4,
   "metadata": {},
   "outputs": [],
   "source": [
    "text_f = \"who_audit_summary_synthetic.md\"\n",
    "data_f = \"who_audit_synthetic_data.csv\""
   ]
  },
  {
   "cell_type": "code",
   "execution_count": 5,
   "metadata": {},
   "outputs": [],
   "source": [
    "with open(text_f, \"r\") as f:\n",
    "    audit_text = f.read()\n",
    "with open(data_f, \"r\") as f:\n",
    "    data_text = f.read()"
   ]
  },
  {
   "cell_type": "markdown",
   "metadata": {},
   "source": [
    "claude model names:\n",
    "claude-sonnet-4-20250514 -> larger model, so easier to use\n",
    "claude-3-5-haiku-20241022 -> harder"
   ]
  },
  {
   "cell_type": "code",
   "execution_count": 10,
   "metadata": {},
   "outputs": [],
   "source": [
    "\n",
    "def send_claude_message(input_text, data_text=\"\", audit_text=\"\", model=\"claude-sonnet-4-20250514\", max_tokens=4000, temperature=0):\n",
    "    \"\"\"\n",
    "    Send a message to Claude API with customizable parameters.\n",
    "    \n",
    "    Args:\n",
    "        input_text (str): The message template to send to Claude\n",
    "        data_text (str): Data to be inserted into the input_text template\n",
    "        audit_text (str): Audit information to be inserted into the input_text template\n",
    "        model (str): Claude model to use (default: claude-sonnet-4-20250514)\n",
    "        max_tokens (int): Maximum tokens for response (default: 4000)\n",
    "        temperature (float): Response creativity level (default: 0)\n",
    "    \n",
    "    Returns:\n",
    "        str: Claude's response text\n",
    "    \"\"\"\n",
    "    message = client.messages.create(\n",
    "        model=model,\n",
    "        max_tokens=max_tokens,\n",
    "        temperature=temperature,\n",
    "        system=\"You are a helpful assistant that can answer questions about the data.\",\n",
    "        messages=[\n",
    "            {\n",
    "                \"role\": \"user\",\n",
    "                \"content\": [\n",
    "                    {\n",
    "                        \"type\": \"text\",\n",
    "                        \"text\": input_text.format(data_text=data_text, audit_text=audit_text)\n",
    "                    }\n",
    "                ]\n",
    "            }\n",
    "        ]\n",
    "    )\n",
    "    return message.content[0].text"
   ]
  },
  {
   "cell_type": "code",
   "execution_count": null,
   "metadata": {},
   "outputs": [],
   "source": [
    "input_text = \"\"\"\n",
    "Identify which batches of vaccine in this dataset were stored at the wrong temperature. \n",
    "The document gives info on acceptable ranges. \n",
    "Data: {data_text} \\n\\n\n",
    "Document: {audit_text}\n",
    "\"\"\""
   ]
  },
  {
   "cell_type": "code",
   "execution_count": 12,
   "metadata": {},
   "outputs": [
    {
     "name": "stdout",
     "output_type": "stream",
     "text": [
      "Looking at the dataset and the WHO document, I can identify the batches that were stored at wrong temperatures by comparing the recorded temperatures against the acceptable ranges specified in the document.\n",
      "\n",
      "## Batches Stored at Wrong Temperature:\n",
      "\n",
      "### **B10039 (Polio vaccine)**\n",
      "- **Required range:** 2.0 to 8.0°C\n",
      "- **Problem:** Multiple readings below 2.0°C\n",
      "- **Specific violations:**\n",
      "  - Feb 7, 8:00: 3.7°C (high) / 3.7°C (low) - *borderline but within range*\n",
      "  - Feb 7, 12:00: 5.4°C (high) / 4.6°C (low) - *within range*\n",
      "  - Feb 7, 16:00: 6.5°C (high) / 5.7°C (low) - *within range*\n",
      "  - Feb 7, 20:00: 7.4°C (high) / **3.1°C (low)** - *within range*\n",
      "- **Status:** All quality checks show FAIL, with notes indicating \"Temperature below range\" and \"Critical low temperature\"\n",
      "\n",
      "### **B10040 (Hepatitis B vaccine)**\n",
      "- **Required range:** 2.0 to 8.0°C  \n",
      "- **Problem:** Temperature excursions above 8.0°C\n",
      "- **Specific violations:**\n",
      "  - Feb 8, 12:00: **9.0°C** (thermal reading) - *exceeds maximum*\n",
      "  - Feb 8, 16:00: **8.5°C** (thermal reading) - *exceeds maximum*\n",
      "  - Feb 8, 20:00: **8.1°C** (thermal reading) - *exceeds maximum*\n",
      "- **Status:** Quality checks show FAIL after the first normal reading, with notes about \"Critical temperature excursion\"\n",
      "\n",
      "### **B10045 (Meningococcal vaccine)**\n",
      "- **Required range:** 2.8 to 6.5°C (most restrictive for conjugate vaccines)\n",
      "- **Problem:** Multiple readings below minimum range\n",
      "- **Specific violations:**\n",
      "  - Feb 13, 8:00: 5.1°C (high) / 4.6°C (low) - *high temp within range, low temp below minimum*\n",
      "  - Feb 13, 12:00: 5.5°C (high) / 4.0°C (low) - *low temp well below minimum*\n",
      "  - Feb 13, 16:00: 4.8°C (high) / **3.2°C (low)** - *low temp below minimum*\n",
      "  - Feb 13, 20:00: 4.6°C (high) / **3.2°C (low)** - *low temp below minimum*\n",
      "- **Status:** All quality checks show FAIL with notes about temperature being below range\n",
      "\n",
      "## Summary:\n",
      "**Three batches** experienced temperature storage violations:\n",
      "1. **B10039** (Polio) - temperatures below acceptable range\n",
      "2. **B10040** (Hepatitis B) - temperatures above acceptable range  \n",
      "3. **B10045** (Meningococcal) - temperatures below acceptable range\n",
      "\n",
      "All three batches show consistent FAIL status in their quality_check_status field, and the notes column documents the temperature problems, confirming these were recognized storage failures.\n"
     ]
    }
   ],
   "source": [
    "answer = send_claude_message(input_text, data_text=data_text, audit_text=audit_text)\n",
    "print(answer)"
   ]
  }
 ],
 "metadata": {
  "kernelspec": {
   "display_name": "openfn",
   "language": "python",
   "name": "python3"
  },
  "language_info": {
   "codemirror_mode": {
    "name": "ipython",
    "version": 3
   },
   "file_extension": ".py",
   "mimetype": "text/x-python",
   "name": "python",
   "nbconvert_exporter": "python",
   "pygments_lexer": "ipython3",
   "version": "3.11.10"
  }
 },
 "nbformat": 4,
 "nbformat_minor": 2
}
